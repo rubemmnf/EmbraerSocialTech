{
 "cells": [
  {
   "cell_type": "markdown",
   "id": "b08e7135",
   "metadata": {},
   "source": [
    "# Preparação"
   ]
  },
  {
   "cell_type": "code",
   "execution_count": 1,
   "id": "5aeccd07",
   "metadata": {},
   "outputs": [],
   "source": [
    "#importando as bibliotecas\n",
    "import numpy as np\n",
    "import pandas as pd"
   ]
  },
  {
   "cell_type": "code",
   "execution_count": 13,
   "id": "b6e0b404",
   "metadata": {},
   "outputs": [],
   "source": [
    "df = pd.read_csv(\"https://pycourse.s3.amazonaws.com/bike-sharing.csv\")"
   ]
  },
  {
   "cell_type": "code",
   "execution_count": 17,
   "id": "73ed65e6",
   "metadata": {},
   "outputs": [
    {
     "data": {
      "text/html": [
       "<div>\n",
       "<style scoped>\n",
       "    .dataframe tbody tr th:only-of-type {\n",
       "        vertical-align: middle;\n",
       "    }\n",
       "\n",
       "    .dataframe tbody tr th {\n",
       "        vertical-align: top;\n",
       "    }\n",
       "\n",
       "    .dataframe thead th {\n",
       "        text-align: right;\n",
       "    }\n",
       "</style>\n",
       "<table border=\"1\" class=\"dataframe\">\n",
       "  <thead>\n",
       "    <tr style=\"text-align: right;\">\n",
       "      <th></th>\n",
       "      <th>datetime</th>\n",
       "      <th>rec_id</th>\n",
       "      <th>season</th>\n",
       "      <th>year</th>\n",
       "      <th>month</th>\n",
       "      <th>hour</th>\n",
       "      <th>is_holiday</th>\n",
       "      <th>weekday</th>\n",
       "      <th>is_workingday</th>\n",
       "      <th>weather_condition</th>\n",
       "      <th>temp</th>\n",
       "      <th>atemp</th>\n",
       "      <th>humidity</th>\n",
       "      <th>windspeed</th>\n",
       "      <th>casual</th>\n",
       "      <th>registered</th>\n",
       "      <th>total_count</th>\n",
       "    </tr>\n",
       "  </thead>\n",
       "  <tbody>\n",
       "    <tr>\n",
       "      <th>0</th>\n",
       "      <td>2011-01-01</td>\n",
       "      <td>1</td>\n",
       "      <td>1</td>\n",
       "      <td>0</td>\n",
       "      <td>1</td>\n",
       "      <td>0</td>\n",
       "      <td>0</td>\n",
       "      <td>6</td>\n",
       "      <td>0</td>\n",
       "      <td>1</td>\n",
       "      <td>0.24</td>\n",
       "      <td>0.2879</td>\n",
       "      <td>0.81</td>\n",
       "      <td>0.0000</td>\n",
       "      <td>3</td>\n",
       "      <td>13</td>\n",
       "      <td>16</td>\n",
       "    </tr>\n",
       "    <tr>\n",
       "      <th>1</th>\n",
       "      <td>2011-01-01</td>\n",
       "      <td>2</td>\n",
       "      <td>1</td>\n",
       "      <td>0</td>\n",
       "      <td>1</td>\n",
       "      <td>1</td>\n",
       "      <td>0</td>\n",
       "      <td>6</td>\n",
       "      <td>0</td>\n",
       "      <td>1</td>\n",
       "      <td>0.22</td>\n",
       "      <td>0.2727</td>\n",
       "      <td>0.80</td>\n",
       "      <td>0.0000</td>\n",
       "      <td>8</td>\n",
       "      <td>32</td>\n",
       "      <td>40</td>\n",
       "    </tr>\n",
       "    <tr>\n",
       "      <th>2</th>\n",
       "      <td>2011-01-01</td>\n",
       "      <td>3</td>\n",
       "      <td>1</td>\n",
       "      <td>0</td>\n",
       "      <td>1</td>\n",
       "      <td>2</td>\n",
       "      <td>0</td>\n",
       "      <td>6</td>\n",
       "      <td>0</td>\n",
       "      <td>1</td>\n",
       "      <td>0.22</td>\n",
       "      <td>0.2727</td>\n",
       "      <td>0.80</td>\n",
       "      <td>0.0000</td>\n",
       "      <td>5</td>\n",
       "      <td>27</td>\n",
       "      <td>32</td>\n",
       "    </tr>\n",
       "    <tr>\n",
       "      <th>3</th>\n",
       "      <td>2011-01-01</td>\n",
       "      <td>4</td>\n",
       "      <td>1</td>\n",
       "      <td>0</td>\n",
       "      <td>1</td>\n",
       "      <td>3</td>\n",
       "      <td>0</td>\n",
       "      <td>6</td>\n",
       "      <td>0</td>\n",
       "      <td>1</td>\n",
       "      <td>0.24</td>\n",
       "      <td>0.2879</td>\n",
       "      <td>0.75</td>\n",
       "      <td>0.0000</td>\n",
       "      <td>3</td>\n",
       "      <td>10</td>\n",
       "      <td>13</td>\n",
       "    </tr>\n",
       "    <tr>\n",
       "      <th>4</th>\n",
       "      <td>2011-01-01</td>\n",
       "      <td>5</td>\n",
       "      <td>1</td>\n",
       "      <td>0</td>\n",
       "      <td>1</td>\n",
       "      <td>4</td>\n",
       "      <td>0</td>\n",
       "      <td>6</td>\n",
       "      <td>0</td>\n",
       "      <td>1</td>\n",
       "      <td>0.24</td>\n",
       "      <td>0.2879</td>\n",
       "      <td>0.75</td>\n",
       "      <td>0.0000</td>\n",
       "      <td>0</td>\n",
       "      <td>1</td>\n",
       "      <td>1</td>\n",
       "    </tr>\n",
       "    <tr>\n",
       "      <th>...</th>\n",
       "      <td>...</td>\n",
       "      <td>...</td>\n",
       "      <td>...</td>\n",
       "      <td>...</td>\n",
       "      <td>...</td>\n",
       "      <td>...</td>\n",
       "      <td>...</td>\n",
       "      <td>...</td>\n",
       "      <td>...</td>\n",
       "      <td>...</td>\n",
       "      <td>...</td>\n",
       "      <td>...</td>\n",
       "      <td>...</td>\n",
       "      <td>...</td>\n",
       "      <td>...</td>\n",
       "      <td>...</td>\n",
       "      <td>...</td>\n",
       "    </tr>\n",
       "    <tr>\n",
       "      <th>17374</th>\n",
       "      <td>2012-12-31</td>\n",
       "      <td>17375</td>\n",
       "      <td>1</td>\n",
       "      <td>1</td>\n",
       "      <td>12</td>\n",
       "      <td>19</td>\n",
       "      <td>0</td>\n",
       "      <td>1</td>\n",
       "      <td>1</td>\n",
       "      <td>2</td>\n",
       "      <td>0.26</td>\n",
       "      <td>0.2576</td>\n",
       "      <td>0.60</td>\n",
       "      <td>0.1642</td>\n",
       "      <td>11</td>\n",
       "      <td>108</td>\n",
       "      <td>119</td>\n",
       "    </tr>\n",
       "    <tr>\n",
       "      <th>17375</th>\n",
       "      <td>2012-12-31</td>\n",
       "      <td>17376</td>\n",
       "      <td>1</td>\n",
       "      <td>1</td>\n",
       "      <td>12</td>\n",
       "      <td>20</td>\n",
       "      <td>0</td>\n",
       "      <td>1</td>\n",
       "      <td>1</td>\n",
       "      <td>2</td>\n",
       "      <td>0.26</td>\n",
       "      <td>0.2576</td>\n",
       "      <td>0.60</td>\n",
       "      <td>0.1642</td>\n",
       "      <td>8</td>\n",
       "      <td>81</td>\n",
       "      <td>89</td>\n",
       "    </tr>\n",
       "    <tr>\n",
       "      <th>17376</th>\n",
       "      <td>2012-12-31</td>\n",
       "      <td>17377</td>\n",
       "      <td>1</td>\n",
       "      <td>1</td>\n",
       "      <td>12</td>\n",
       "      <td>21</td>\n",
       "      <td>0</td>\n",
       "      <td>1</td>\n",
       "      <td>1</td>\n",
       "      <td>1</td>\n",
       "      <td>0.26</td>\n",
       "      <td>0.2576</td>\n",
       "      <td>0.60</td>\n",
       "      <td>0.1642</td>\n",
       "      <td>7</td>\n",
       "      <td>83</td>\n",
       "      <td>90</td>\n",
       "    </tr>\n",
       "    <tr>\n",
       "      <th>17377</th>\n",
       "      <td>2012-12-31</td>\n",
       "      <td>17378</td>\n",
       "      <td>1</td>\n",
       "      <td>1</td>\n",
       "      <td>12</td>\n",
       "      <td>22</td>\n",
       "      <td>0</td>\n",
       "      <td>1</td>\n",
       "      <td>1</td>\n",
       "      <td>1</td>\n",
       "      <td>0.26</td>\n",
       "      <td>0.2727</td>\n",
       "      <td>0.56</td>\n",
       "      <td>0.1343</td>\n",
       "      <td>13</td>\n",
       "      <td>48</td>\n",
       "      <td>61</td>\n",
       "    </tr>\n",
       "    <tr>\n",
       "      <th>17378</th>\n",
       "      <td>2012-12-31</td>\n",
       "      <td>17379</td>\n",
       "      <td>1</td>\n",
       "      <td>1</td>\n",
       "      <td>12</td>\n",
       "      <td>23</td>\n",
       "      <td>0</td>\n",
       "      <td>1</td>\n",
       "      <td>1</td>\n",
       "      <td>1</td>\n",
       "      <td>0.26</td>\n",
       "      <td>0.2727</td>\n",
       "      <td>0.65</td>\n",
       "      <td>0.1343</td>\n",
       "      <td>12</td>\n",
       "      <td>37</td>\n",
       "      <td>49</td>\n",
       "    </tr>\n",
       "  </tbody>\n",
       "</table>\n",
       "<p>17379 rows × 17 columns</p>\n",
       "</div>"
      ],
      "text/plain": [
       "         datetime  rec_id  season  year  month  hour  is_holiday  weekday  \\\n",
       "0      2011-01-01       1       1     0      1     0           0        6   \n",
       "1      2011-01-01       2       1     0      1     1           0        6   \n",
       "2      2011-01-01       3       1     0      1     2           0        6   \n",
       "3      2011-01-01       4       1     0      1     3           0        6   \n",
       "4      2011-01-01       5       1     0      1     4           0        6   \n",
       "...           ...     ...     ...   ...    ...   ...         ...      ...   \n",
       "17374  2012-12-31   17375       1     1     12    19           0        1   \n",
       "17375  2012-12-31   17376       1     1     12    20           0        1   \n",
       "17376  2012-12-31   17377       1     1     12    21           0        1   \n",
       "17377  2012-12-31   17378       1     1     12    22           0        1   \n",
       "17378  2012-12-31   17379       1     1     12    23           0        1   \n",
       "\n",
       "       is_workingday  weather_condition  temp   atemp  humidity  windspeed  \\\n",
       "0                  0                  1  0.24  0.2879      0.81     0.0000   \n",
       "1                  0                  1  0.22  0.2727      0.80     0.0000   \n",
       "2                  0                  1  0.22  0.2727      0.80     0.0000   \n",
       "3                  0                  1  0.24  0.2879      0.75     0.0000   \n",
       "4                  0                  1  0.24  0.2879      0.75     0.0000   \n",
       "...              ...                ...   ...     ...       ...        ...   \n",
       "17374              1                  2  0.26  0.2576      0.60     0.1642   \n",
       "17375              1                  2  0.26  0.2576      0.60     0.1642   \n",
       "17376              1                  1  0.26  0.2576      0.60     0.1642   \n",
       "17377              1                  1  0.26  0.2727      0.56     0.1343   \n",
       "17378              1                  1  0.26  0.2727      0.65     0.1343   \n",
       "\n",
       "       casual  registered  total_count  \n",
       "0           3          13           16  \n",
       "1           8          32           40  \n",
       "2           5          27           32  \n",
       "3           3          10           13  \n",
       "4           0           1            1  \n",
       "...       ...         ...          ...  \n",
       "17374      11         108          119  \n",
       "17375       8          81           89  \n",
       "17376       7          83           90  \n",
       "17377      13          48           61  \n",
       "17378      12          37           49  \n",
       "\n",
       "[17379 rows x 17 columns]"
      ]
     },
     "execution_count": 17,
     "metadata": {},
     "output_type": "execute_result"
    }
   ],
   "source": [
    "df"
   ]
  },
  {
   "cell_type": "code",
   "execution_count": 21,
   "id": "d3ac9af5",
   "metadata": {},
   "outputs": [
    {
     "data": {
      "text/plain": [
       "Index(['datetime', 'rec_id', 'season', 'year', 'month', 'hour', 'is_holiday',\n",
       "       'weekday', 'is_workingday', 'weather_condition', 'temp', 'atemp',\n",
       "       'humidity', 'windspeed', 'casual', 'registered', 'total_count'],\n",
       "      dtype='object')"
      ]
     },
     "execution_count": 21,
     "metadata": {},
     "output_type": "execute_result"
    }
   ],
   "source": [
    "df.columns\n",
    "# − rec_id: índice do registro de locação;\n",
    "# − datetime: data; \n",
    "# − season: estação do ano (1: inverno, 2: primavera, 3: verão, 4: outono). Relativo ao hemisfério norte;\n",
    "# − year: ano (0: 2011, 1:2012); \n",
    "# − month: mês (1 a 12); \n",
    "# − hour: hora do dia (0 a 23); \n",
    "# − is_holiday: booleano indicando feriado; \n",
    "# − weekday: dia da semana (0: domingo, 1: segunda-feira, …, 6: sábado); \n",
    "# − is_workingday: booleano indicando dia útil; \n",
    "# − weather_condition: (1: limpo, 2: nublado, 3: chuva leve, 4: chuva forte); \n",
    "# − temp: Temperatura escalada entre 0 e 1. Valor original em graus Celsius: -8 a 39; \n",
    "# − atemp: Sensação térmica escalada entre 0 e 1. Valor original em graus Celsius: -16 a 50; \n",
    "# − humidity: Humidade relativa (0 a 1); \n",
    "# − windspeed: Velocidade do vento escalada entre 0 e 1 (máximo original: 67); \n",
    "# − casual: número de locações para usuários casuais; \n",
    "# − registered: número de locações para usuários registrados; \n",
    "# − total_count: contador total de aluguéis (casual+registered)."
   ]
  },
  {
   "cell_type": "markdown",
   "id": "ab3798d0",
   "metadata": {},
   "source": [
    "# Questões"
   ]
  },
  {
   "cell_type": "markdown",
   "id": "83991895",
   "metadata": {},
   "source": [
    "## a. Qual o tamanho desse dataset?"
   ]
  },
  {
   "cell_type": "code",
   "execution_count": 11,
   "id": "7a4e2c83",
   "metadata": {},
   "outputs": [
    {
     "name": "stdout",
     "output_type": "stream",
     "text": [
      "(17379, 17)\n",
      "o dataset tem 17379 linhas e 17 colunas\n"
     ]
    }
   ],
   "source": [
    "print(df.shape)\n",
    "print('o dataset tem ' + str(df.shape[0]) + ' linhas e ' + str(df.shape[1]) +' colunas')"
   ]
  },
  {
   "cell_type": "markdown",
   "id": "d965dbef",
   "metadata": {},
   "source": [
    "## b. Qual a média da coluna windspeed?"
   ]
  },
  {
   "cell_type": "code",
   "execution_count": 20,
   "id": "907949e8",
   "metadata": {},
   "outputs": [
    {
     "name": "stdout",
     "output_type": "stream",
     "text": [
      "0.1900976063064631\n",
      "12.736539622533028\n"
     ]
    }
   ],
   "source": [
    "print(df['windspeed'].mean())\n",
    "print(67*df['windspeed'].mean())"
   ]
  },
  {
   "cell_type": "markdown",
   "id": "bf97ff71",
   "metadata": {},
   "source": [
    "## c. Qual a média da coluna temp?"
   ]
  },
  {
   "cell_type": "code",
   "execution_count": 22,
   "id": "0a3b2740",
   "metadata": {},
   "outputs": [
    {
     "name": "stdout",
     "output_type": "stream",
     "text": [
      "0.4969871684216586\n",
      "15.358396915817952\n"
     ]
    }
   ],
   "source": [
    "print(df['temp'].mean())\n",
    "print(47*df['temp'].mean()-8)"
   ]
  },
  {
   "cell_type": "markdown",
   "id": "7c90eb50",
   "metadata": {},
   "source": [
    "## d. Quantos registros existem para o ano de 2011?"
   ]
  },
  {
   "cell_type": "code",
   "execution_count": 114,
   "id": "4b6fbfdc",
   "metadata": {},
   "outputs": [
    {
     "data": {
      "text/plain": [
       "(8645, 17)"
      ]
     },
     "execution_count": 114,
     "metadata": {},
     "output_type": "execute_result"
    }
   ],
   "source": [
    "df[df['year']==0].shape"
   ]
  },
  {
   "cell_type": "markdown",
   "id": "f5031c55",
   "metadata": {},
   "source": [
    "## e. Quantos registros existem para o ano de 2012?"
   ]
  },
  {
   "cell_type": "code",
   "execution_count": 115,
   "id": "40caf5b5",
   "metadata": {},
   "outputs": [
    {
     "data": {
      "text/plain": [
       "(8734, 17)"
      ]
     },
     "execution_count": 115,
     "metadata": {},
     "output_type": "execute_result"
    }
   ],
   "source": [
    "df[df['year']==1].shape"
   ]
  },
  {
   "cell_type": "markdown",
   "id": "dfc20cd4",
   "metadata": {},
   "source": [
    "## f. Quantas locações de bicicletas foram efetuadas em 2011?"
   ]
  },
  {
   "cell_type": "code",
   "execution_count": 38,
   "id": "8163e36a",
   "metadata": {},
   "outputs": [
    {
     "data": {
      "text/plain": [
       "1243103"
      ]
     },
     "execution_count": 38,
     "metadata": {},
     "output_type": "execute_result"
    }
   ],
   "source": [
    "df.loc[df['year']==0, 'total_count'].sum()"
   ]
  },
  {
   "cell_type": "markdown",
   "id": "657c5d84",
   "metadata": {},
   "source": [
    "## g. Quantas locações de bicicletas foram efetuadas em 2012?"
   ]
  },
  {
   "cell_type": "code",
   "execution_count": 39,
   "id": "c0c760c6",
   "metadata": {},
   "outputs": [
    {
     "data": {
      "text/plain": [
       "2049576"
      ]
     },
     "execution_count": 39,
     "metadata": {},
     "output_type": "execute_result"
    }
   ],
   "source": [
    "df.loc[df['year']==1, 'total_count'].sum()"
   ]
  },
  {
   "cell_type": "markdown",
   "id": "1bdaa174",
   "metadata": {},
   "source": [
    "## h. Qual estação do ano contém a maior média de locações de bicicletas?"
   ]
  },
  {
   "cell_type": "code",
   "execution_count": 117,
   "id": "074c7704",
   "metadata": {},
   "outputs": [
    {
     "name": "stdout",
     "output_type": "stream",
     "text": [
      "season\n",
      "3    236.016237\n",
      "2    208.344069\n",
      "4    198.868856\n",
      "1    111.114569\n",
      "Name: total_count, dtype: float64\n",
      "\n",
      "a estação com maior média é: verão\n"
     ]
    }
   ],
   "source": [
    "season_dict = {1: 'inverno', 2:'primavera', 3:'verão', 4:'outono'}\n",
    "total_per_season = df.groupby(by='season').mean().sort_values(by=['total_count'],ascending=False)['total_count']\n",
    "\n",
    "print(total_per_season)\n",
    "print('\\na estação com maior média é: ' + str(season_dict[total_per_season.index[0]]))"
   ]
  },
  {
   "cell_type": "markdown",
   "id": "b8e649ee",
   "metadata": {},
   "source": [
    "## i. Qual estação do ano contém a menor média de locações de bicicletas?"
   ]
  },
  {
   "cell_type": "code",
   "execution_count": 75,
   "id": "5c71d4e2",
   "metadata": {},
   "outputs": [
    {
     "name": "stdout",
     "output_type": "stream",
     "text": [
      "\n",
      "a estação com maior média é: inverno\n"
     ]
    }
   ],
   "source": [
    "print('\\na estação com maior média é: ' + str(season_dict[total_per_season.index[-1]]))"
   ]
  },
  {
   "cell_type": "markdown",
   "id": "43a49a42",
   "metadata": {},
   "source": [
    "## j. Qual horário do dia contém a maior média de locações de bicicletas?"
   ]
  },
  {
   "cell_type": "code",
   "execution_count": 119,
   "id": "916265d7",
   "metadata": {},
   "outputs": [
    {
     "name": "stdout",
     "output_type": "stream",
     "text": [
      "hour\n",
      "17    461.452055\n",
      "18    425.510989\n",
      "8     359.011004\n",
      "16    311.983562\n",
      "19    311.523352\n",
      "13    253.661180\n",
      "12    253.315934\n",
      "15    251.233196\n",
      "14    240.949246\n",
      "20    226.030220\n",
      "9     219.309491\n",
      "7     212.064649\n",
      "11    208.143054\n",
      "10    173.668501\n",
      "21    172.314560\n",
      "22    131.335165\n",
      "23     87.831044\n",
      "6      76.044138\n",
      "0      53.898072\n",
      "1      33.375691\n",
      "2      22.869930\n",
      "5      19.889819\n",
      "3      11.727403\n",
      "4       6.352941\n",
      "Name: total_count, dtype: float64\n",
      "\n",
      "a hora do dia com maior média é: 17h\n"
     ]
    }
   ],
   "source": [
    "total_per_hour = df.groupby(by='hour').mean().sort_values(by=['total_count'],ascending=False)['total_count']\n",
    "\n",
    "print(total_per_hour)\n",
    "print('\\na hora do dia com maior média é: ' + str(total_per_hour.index[0]) + 'h')"
   ]
  },
  {
   "cell_type": "markdown",
   "id": "764a58ba",
   "metadata": {},
   "source": [
    "## k. Qual horário do dia contém a menor média de locações de bicicletas?"
   ]
  },
  {
   "cell_type": "code",
   "execution_count": 85,
   "id": "d5dd654f",
   "metadata": {},
   "outputs": [
    {
     "name": "stdout",
     "output_type": "stream",
     "text": [
      "\n",
      "a hora do dia com maior média é: 4h\n"
     ]
    }
   ],
   "source": [
    "print('\\na hora do dia com maior média é: ' + str(total_per_hour.index[-1]) + 'h')"
   ]
  },
  {
   "cell_type": "markdown",
   "id": "98e6bfda",
   "metadata": {},
   "source": [
    "## l. Que dia da semana contém a maior média de locações de bicicletas?"
   ]
  },
  {
   "cell_type": "code",
   "execution_count": 121,
   "id": "e2e63d07",
   "metadata": {},
   "outputs": [
    {
     "name": "stdout",
     "output_type": "stream",
     "text": [
      "weekday\n",
      "4    196.436665\n",
      "5    196.135907\n",
      "2    191.238891\n",
      "3    191.130505\n",
      "6    190.209793\n",
      "1    183.744655\n",
      "0    177.468825\n",
      "Name: total_count, dtype: float64\n",
      "\n",
      "o dia com maior média é: quinta-feira\n"
     ]
    }
   ],
   "source": [
    "total_per_weekday = df.groupby(by='weekday').mean().sort_values(by=['total_count'],ascending=False)['total_count']\n",
    "weekday_dict = {0: 'domingo', 1: 'segunda-feira', 2: 'terça-feira', 3: 'quarta-feira', \n",
    "                4: 'quinta-feira', 5: 'sexta-feira', 6: 'sábado'}\n",
    "\n",
    "print(total_per_weekday)\n",
    "print('\\no dia com maior média é: ' + str(weekday_dict[total_per_weekday.index[0]]))"
   ]
  },
  {
   "cell_type": "markdown",
   "id": "07191019",
   "metadata": {},
   "source": [
    "## m. Que dia da semana contém a menor média de locações de bicicletas?"
   ]
  },
  {
   "cell_type": "code",
   "execution_count": 90,
   "id": "9461b36f",
   "metadata": {},
   "outputs": [
    {
     "name": "stdout",
     "output_type": "stream",
     "text": [
      "\n",
      "o dia com maior média é: domingo\n"
     ]
    }
   ],
   "source": [
    "print('\\no dia com maior média é: ' + str(weekday_dict[total_per_weekday.index[-1]]))"
   ]
  },
  {
   "cell_type": "markdown",
   "id": "6918f9f1",
   "metadata": {},
   "source": [
    "## n. Às quartas-feiras (weekday = 3), qual o horário do dia que contém a maior média de locações de bicicletas?"
   ]
  },
  {
   "cell_type": "code",
   "execution_count": 112,
   "id": "02441633",
   "metadata": {},
   "outputs": [
    {
     "name": "stdout",
     "output_type": "stream",
     "text": [
      "hour\n",
      "17    513.144231\n",
      "18    494.029126\n",
      "8     488.326923\n",
      "19    357.504854\n",
      "7     303.980769\n",
      "16    272.961538\n",
      "20    256.660194\n",
      "9     238.528846\n",
      "21    194.669903\n",
      "12    193.903846\n",
      "13    185.826923\n",
      "15    181.288462\n",
      "14    170.548077\n",
      "11    152.201923\n",
      "22    143.689320\n",
      "10    131.894231\n",
      "6     107.807692\n",
      "23     83.737864\n",
      "0      34.557692\n",
      "5      25.750000\n",
      "1      15.336538\n",
      "2       7.813725\n",
      "4       4.968750\n",
      "3       4.888889\n",
      "Name: total_count, dtype: float64\n",
      "\n",
      "a hora do dia com maior média às quartas é: 17h\n"
     ]
    }
   ],
   "source": [
    "total_per_hour_quarta = df[df['weekday']==3].groupby(by='hour').mean().sort_values(by=['total_count'],ascending=False)['total_count']\n",
    "\n",
    "print(total_per_hour_quarta)\n",
    "print('\\na hora do dia com maior média às quartas é: ' + str(total_per_hour_quarta.index[0]) + 'h')"
   ]
  },
  {
   "cell_type": "markdown",
   "id": "720234c2",
   "metadata": {},
   "source": [
    "## o. Aos sábados (weekday = 6), qual o horário do dia que contém a maior média de locações de bicicletas?"
   ]
  },
  {
   "cell_type": "code",
   "execution_count": 113,
   "id": "61d5d17d",
   "metadata": {},
   "outputs": [
    {
     "name": "stdout",
     "output_type": "stream",
     "text": [
      "hour\n",
      "13    385.371429\n",
      "15    382.428571\n",
      "14    381.333333\n",
      "12    375.380952\n",
      "16    366.142857\n",
      "17    334.409524\n",
      "11    328.609524\n",
      "18    292.048077\n",
      "10    263.723810\n",
      "19    239.932692\n",
      "9     186.790476\n",
      "20    180.865385\n",
      "21    156.000000\n",
      "22    139.663462\n",
      "23    115.855769\n",
      "8     114.476190\n",
      "0      94.304762\n",
      "1      67.780952\n",
      "2      50.495238\n",
      "7      45.961905\n",
      "3      22.885714\n",
      "6      21.000000\n",
      "5       8.291262\n",
      "4       7.657143\n",
      "Name: total_count, dtype: float64\n",
      "\n",
      "a hora do dia com maior média às quartas é: 13h\n"
     ]
    }
   ],
   "source": [
    "total_per_hour_sabado = df[df['weekday']==6].groupby(by='hour').mean().sort_values(by=['total_count'],ascending=False)['total_count']\n",
    "\n",
    "print(total_per_hour_sabado)\n",
    "print('\\na hora do dia com maior média às quartas é: ' + str(total_per_hour_sabado.index[0]) + 'h')"
   ]
  },
  {
   "cell_type": "markdown",
   "id": "61fac906",
   "metadata": {},
   "source": [
    "# Questionário"
   ]
  },
  {
   "cell_type": "code",
   "execution_count": null,
   "id": "b0a6beac",
   "metadata": {},
   "outputs": [],
   "source": []
  }
 ],
 "metadata": {
  "kernelspec": {
   "display_name": "Python 3 (ipykernel)",
   "language": "python",
   "name": "python3"
  },
  "language_info": {
   "codemirror_mode": {
    "name": "ipython",
    "version": 3
   },
   "file_extension": ".py",
   "mimetype": "text/x-python",
   "name": "python",
   "nbconvert_exporter": "python",
   "pygments_lexer": "ipython3",
   "version": "3.9.12"
  }
 },
 "nbformat": 4,
 "nbformat_minor": 5
}
