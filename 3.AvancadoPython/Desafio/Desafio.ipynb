{
 "cells": [
  {
   "cell_type": "code",
   "execution_count": 17,
   "id": "abca39f1",
   "metadata": {},
   "outputs": [],
   "source": [
    "#importando as bibliotecas\n",
    "import pandas as pd  #bibioteca responsável para o tratamento e limpeza dos dados\n",
    "import numpy as np #biblioteca utilizada para o tratamento eficiente de dados numéricos\n",
    "import datetime  #biblioteca utilizada para trabalhar com datas\n",
    "from matplotlib import pyplot as plt  #plotar os gráficos\n",
    "import seaborn as sns #plot de gráficos"
   ]
  },
  {
   "cell_type": "code",
   "execution_count": 20,
   "id": "f1c31b1f",
   "metadata": {},
   "outputs": [
    {
     "data": {
      "text/plain": [
       "(32561, 15)"
      ]
     },
     "execution_count": 20,
     "metadata": {},
     "output_type": "execute_result"
    }
   ],
   "source": [
    "base_census = pd.read_csv(\"census.csv\")\n",
    "base_census = base_census.dropna()\n",
    "X_census = base_census.iloc[:, 0:14].values\n",
    "y_census = base_census.iloc[:, 14].values"
   ]
  },
  {
   "cell_type": "code",
   "execution_count": 5,
   "id": "acaa8eb4",
   "metadata": {},
   "outputs": [],
   "source": [
    "from sklearn.preprocessing import LabelEncoder\n",
    "\n",
    "label_encoder_teste = LabelEncoder()\n",
    "label_encoder_workclass = LabelEncoder()\n",
    "label_encoder_education = LabelEncoder()\n",
    "label_encoder_marital = LabelEncoder()\n",
    "label_encoder_occupation = LabelEncoder()\n",
    "label_encoder_relationship = LabelEncoder()\n",
    "label_encoder_race = LabelEncoder()\n",
    "label_encoder_sex = LabelEncoder()\n",
    "label_encoder_country = LabelEncoder()"
   ]
  },
  {
   "cell_type": "code",
   "execution_count": 6,
   "id": "4599531a",
   "metadata": {},
   "outputs": [],
   "source": [
    "X_census[:,1] = label_encoder_workclass.fit_transform(X_census[:,1])\n",
    "X_census[:,3] = label_encoder_education.fit_transform(X_census[:,3])\n",
    "X_census[:,5] = label_encoder_marital.fit_transform(X_census[:,5])\n",
    "X_census[:,6] = label_encoder_occupation.fit_transform(X_census[:,6])\n",
    "X_census[:,7] = label_encoder_relationship.fit_transform(X_census[:,7])\n",
    "X_census[:,8] = label_encoder_race.fit_transform(X_census[:,8])\n",
    "X_census[:,9] = label_encoder_sex.fit_transform(X_census[:,9])\n",
    "X_census[:,13] = label_encoder_country.fit_transform(X_census[:,13])"
   ]
  },
  {
   "cell_type": "code",
   "execution_count": 7,
   "id": "0053b01d",
   "metadata": {},
   "outputs": [],
   "source": [
    "from sklearn.preprocessing import OneHotEncoder\n",
    "from sklearn.compose import ColumnTransformer\n",
    "import numpy as np"
   ]
  },
  {
   "cell_type": "code",
   "execution_count": 8,
   "id": "e05f450c",
   "metadata": {},
   "outputs": [],
   "source": [
    "onehotencoder_census = ColumnTransformer(transformers=[('OneHot', OneHotEncoder(), [1,3,5,6,7,8,9,13])], remainder='passthrough')\n",
    "X_census = onehotencoder_census.fit_transform(X_census).toarray()"
   ]
  },
  {
   "cell_type": "code",
   "execution_count": 9,
   "id": "b95a2f4f",
   "metadata": {},
   "outputs": [],
   "source": [
    "from sklearn.preprocessing import StandardScaler\n",
    "scaler_census = StandardScaler()\n",
    "X_census = scaler_census.fit_transform(X_census)"
   ]
  },
  {
   "cell_type": "code",
   "execution_count": 10,
   "id": "20ac2ba0",
   "metadata": {},
   "outputs": [],
   "source": [
    "from sklearn.model_selection import train_test_split"
   ]
  },
  {
   "cell_type": "code",
   "execution_count": 11,
   "id": "88abca7e",
   "metadata": {},
   "outputs": [],
   "source": [
    "X_census_treinamento, X_census_teste, y_census_treinamento, y_census_teste = train_test_split(X_census, y_census, test_size = 0.15, random_state = 0)"
   ]
  },
  {
   "cell_type": "code",
   "execution_count": 12,
   "id": "bfca1314",
   "metadata": {},
   "outputs": [],
   "source": [
    "X_census_treinamento, X_census_teste, y_census_treinamento, y_census_teste = train_test_split(X_census, y_census, test_size = 0.15, random_state = 0)"
   ]
  },
  {
   "cell_type": "code",
   "execution_count": 13,
   "id": "8b8bd266",
   "metadata": {},
   "outputs": [
    {
     "data": {
      "text/plain": [
       "RandomForestClassifier(criterion='entropy', random_state=0)"
      ]
     },
     "execution_count": 13,
     "metadata": {},
     "output_type": "execute_result"
    }
   ],
   "source": [
    "from sklearn.ensemble import RandomForestClassifier\n",
    "random_forest_census = RandomForestClassifier(n_estimators=100, criterion='entropy', random_state = 0)\n",
    "random_forest_census.fit(X_census_treinamento, y_census_treinamento)"
   ]
  },
  {
   "cell_type": "code",
   "execution_count": 14,
   "id": "37487fdd",
   "metadata": {},
   "outputs": [
    {
     "data": {
      "text/plain": [
       "array([' <=50K', ' <=50K', ' <=50K', ..., ' <=50K', ' <=50K', ' >50K'],\n",
       "      dtype=object)"
      ]
     },
     "execution_count": 14,
     "metadata": {},
     "output_type": "execute_result"
    }
   ],
   "source": [
    "previsoes = random_forest_census.predict(X_census_teste)\n",
    "previsoes"
   ]
  },
  {
   "cell_type": "code",
   "execution_count": 15,
   "id": "7b541a2a",
   "metadata": {},
   "outputs": [
    {
     "data": {
      "text/plain": [
       "0.8507676560900717"
      ]
     },
     "execution_count": 15,
     "metadata": {},
     "output_type": "execute_result"
    }
   ],
   "source": [
    "from sklearn.metrics import accuracy_score, classification_report\n",
    "accuracy_score(y_census_teste, previsoes)"
   ]
  },
  {
   "cell_type": "markdown",
   "id": "c3c83068",
   "metadata": {},
   "source": [
    "# Questões"
   ]
  },
  {
   "cell_type": "code",
   "execution_count": 21,
   "id": "cca776e8",
   "metadata": {},
   "outputs": [
    {
     "data": {
      "text/plain": [
       "(32561, 15)"
      ]
     },
     "execution_count": 21,
     "metadata": {},
     "output_type": "execute_result"
    }
   ],
   "source": [
    "base_census.shape"
   ]
  },
  {
   "cell_type": "code",
   "execution_count": 30,
   "id": "fd5abf96",
   "metadata": {},
   "outputs": [
    {
     "ename": "ImportError",
     "evalue": "cannot import name 'seq' from 'functional' (C:\\Users\\rubem\\anaconda3\\lib\\site-packages\\functional\\__init__.py)",
     "output_type": "error",
     "traceback": [
      "\u001b[1;31m---------------------------------------------------------------------------\u001b[0m",
      "\u001b[1;31mImportError\u001b[0m                               Traceback (most recent call last)",
      "Input \u001b[1;32mIn [30]\u001b[0m, in \u001b[0;36m<cell line: 1>\u001b[1;34m()\u001b[0m\n\u001b[1;32m----> 1\u001b[0m \u001b[38;5;28;01mfrom\u001b[39;00m \u001b[38;5;21;01mfunctional\u001b[39;00m \u001b[38;5;28;01mimport\u001b[39;00m seq\n\u001b[0;32m      3\u001b[0m result \u001b[38;5;241m=\u001b[39m seq(\u001b[38;5;241m1\u001b[39m,\u001b[38;5;241m2\u001b[39m,\u001b[38;5;241m3\u001b[39m,\u001b[38;5;241m4\u001b[39m)\u001b[38;5;241m.\u001b[39mmap(\u001b[38;5;28;01mlambda\u001b[39;00m x: x\u001b[38;5;241m*\u001b[39m\u001b[38;5;241m2\u001b[39m)\u001b[38;5;241m.\u001b[39mfilter(\u001b[38;5;28;01mlambda\u001b[39;00m x: x \u001b[38;5;241m>\u001b[39m \u001b[38;5;241m4\u001b[39m)\u001b[38;5;241m.\u001b[39mreduce(\u001b[38;5;28;01mlambda\u001b[39;00m x, y: x \u001b[38;5;241m+\u001b[39m y)\n",
      "\u001b[1;31mImportError\u001b[0m: cannot import name 'seq' from 'functional' (C:\\Users\\rubem\\anaconda3\\lib\\site-packages\\functional\\__init__.py)"
     ]
    }
   ],
   "source": [
    "from functional import seq\n",
    "\n",
    "result = seq(1,2,3,4).map(lambda x: x*2).filter(lambda x: x > 4).reduce(lambda x, y: x + y)"
   ]
  },
  {
   "cell_type": "code",
   "execution_count": null,
   "id": "78dc1599",
   "metadata": {},
   "outputs": [],
   "source": []
  }
 ],
 "metadata": {
  "kernelspec": {
   "display_name": "Python 3 (ipykernel)",
   "language": "python",
   "name": "python3"
  },
  "language_info": {
   "codemirror_mode": {
    "name": "ipython",
    "version": 3
   },
   "file_extension": ".py",
   "mimetype": "text/x-python",
   "name": "python",
   "nbconvert_exporter": "python",
   "pygments_lexer": "ipython3",
   "version": "3.9.12"
  }
 },
 "nbformat": 4,
 "nbformat_minor": 5
}
