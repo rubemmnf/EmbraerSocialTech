{
 "cells": [
  {
   "cell_type": "code",
   "execution_count": 33,
   "id": "6703851f",
   "metadata": {},
   "outputs": [],
   "source": [
    "# Encontra e retorna o maior número impar presente na lista \n",
    "teste = [0,1,2,4]\n",
    "\n",
    "def maior_impar(lista): \n",
    "    maior = min(lista)\n",
    "    for n in lista:\n",
    "        if n % 2 == 1 and n>maior:\n",
    "            maior = n\n",
    "    if maior % 2 == 0:\n",
    "        print(\"não há número ímpar na lista\")\n",
    "    return maior\n",
    "        \n",
    "# Encontra e retorna o menor número impar presente na lista \n",
    "def menor_impar(lista): \n",
    "    menor = max(lista)\n",
    "    for n in lista:\n",
    "        if n % 2 == 1 and n < menor:\n",
    "            menor = n\n",
    "    if menor % 2 == 0:\n",
    "        print(\"não há número ímpar na lista\")\n",
    "    return menor \n",
    "    \n",
    "# Encontra e retorna o maior e o menor número ímpar presentes na lista \n",
    "def ext_impar(lista): \n",
    "    return maior_impar(lista), menor_impar(lista)"
   ]
  },
  {
   "cell_type": "code",
   "execution_count": 34,
   "id": "9e19c42c",
   "metadata": {},
   "outputs": [
    {
     "data": {
      "text/plain": [
       "1"
      ]
     },
     "execution_count": 34,
     "metadata": {},
     "output_type": "execute_result"
    }
   ],
   "source": [
    "maior_impar(teste)"
   ]
  },
  {
   "cell_type": "code",
   "execution_count": 35,
   "id": "85f62d47",
   "metadata": {},
   "outputs": [
    {
     "data": {
      "text/plain": [
       "1"
      ]
     },
     "execution_count": 35,
     "metadata": {},
     "output_type": "execute_result"
    }
   ],
   "source": [
    "menor_impar(teste)"
   ]
  },
  {
   "cell_type": "code",
   "execution_count": 36,
   "id": "1bd60e20",
   "metadata": {},
   "outputs": [
    {
     "data": {
      "text/plain": [
       "(1, 1)"
      ]
     },
     "execution_count": 36,
     "metadata": {},
     "output_type": "execute_result"
    }
   ],
   "source": [
    "ext_impar(teste)"
   ]
  }
 ],
 "metadata": {
  "kernelspec": {
   "display_name": "Python 3 (ipykernel)",
   "language": "python",
   "name": "python3"
  },
  "language_info": {
   "codemirror_mode": {
    "name": "ipython",
    "version": 3
   },
   "file_extension": ".py",
   "mimetype": "text/x-python",
   "name": "python",
   "nbconvert_exporter": "python",
   "pygments_lexer": "ipython3",
   "version": "3.9.12"
  }
 },
 "nbformat": 4,
 "nbformat_minor": 5
}
