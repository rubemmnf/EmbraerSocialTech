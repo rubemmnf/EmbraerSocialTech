{
 "cells": [
  {
   "cell_type": "markdown",
   "id": "18f5af6b",
   "metadata": {},
   "source": [
    "# 1"
   ]
  },
  {
   "cell_type": "code",
   "execution_count": 1,
   "id": "2dc4c669",
   "metadata": {},
   "outputs": [],
   "source": [
    "# relação dos nomes \n",
    "nomes = ['Maria', 'Julieta', 'Fernando', 'Cristiano', 'Julieta', 'Maria', 'Fernando', 'Cláudio'] \n",
    "\n",
    "# estrutura que irá armazenar o número de letras de cada nome \n",
    "qtd_letras = {} \n",
    "\n",
    "# calcula o tamanho de cada nome (em número de letras) e armazena o valor na estrutura \n",
    "for nome in nomes: \n",
    "    qtd_letras[nome] = len(nome)"
   ]
  },
  {
   "cell_type": "code",
   "execution_count": 2,
   "id": "5eea3ea3",
   "metadata": {},
   "outputs": [
    {
     "data": {
      "text/plain": [
       "{'Maria': 5, 'Julieta': 7, 'Fernando': 8, 'Cristiano': 9, 'Cláudio': 7}"
      ]
     },
     "execution_count": 2,
     "metadata": {},
     "output_type": "execute_result"
    }
   ],
   "source": [
    "qtd_letras"
   ]
  },
  {
   "cell_type": "markdown",
   "id": "94028667",
   "metadata": {},
   "source": [
    "# 2"
   ]
  },
  {
   "cell_type": "code",
   "execution_count": 3,
   "id": "e282f74f",
   "metadata": {},
   "outputs": [],
   "source": [
    "qtd_letras_dc = {item: len(item) for item in nomes}"
   ]
  },
  {
   "cell_type": "code",
   "execution_count": 4,
   "id": "f7be4c80",
   "metadata": {},
   "outputs": [
    {
     "data": {
      "text/plain": [
       "{'Maria': 5, 'Julieta': 7, 'Fernando': 8, 'Cristiano': 9, 'Cláudio': 7}"
      ]
     },
     "execution_count": 4,
     "metadata": {},
     "output_type": "execute_result"
    }
   ],
   "source": [
    "qtd_letras_dc"
   ]
  },
  {
   "cell_type": "markdown",
   "id": "b83768b2",
   "metadata": {},
   "source": [
    "# 3"
   ]
  },
  {
   "cell_type": "code",
   "execution_count": 6,
   "id": "7e180cfc",
   "metadata": {},
   "outputs": [
    {
     "name": "stdout",
     "output_type": "stream",
     "text": [
      "200.96\n",
      "201.061888\n"
     ]
    }
   ],
   "source": [
    "def area(r, pi = 3.14):\n",
    "    return pi*(r**2)\n",
    "\n",
    "print(area(8))\n",
    "\n",
    "print(area(8,3.141592))"
   ]
  },
  {
   "cell_type": "markdown",
   "id": "5d236702",
   "metadata": {},
   "source": [
    "# 4"
   ]
  },
  {
   "cell_type": "code",
   "execution_count": 8,
   "id": "6bb1343c",
   "metadata": {},
   "outputs": [
    {
     "name": "stdout",
     "output_type": "stream",
     "text": [
      "200.96\n",
      "201.061888\n"
     ]
    }
   ],
   "source": [
    "area_circ = lambda r, pi=3.14: pi*(r**2)\n",
    "\n",
    "print(area(8))\n",
    "\n",
    "print(area(8,3.141592))"
   ]
  },
  {
   "cell_type": "markdown",
   "id": "1618ca2e",
   "metadata": {},
   "source": [
    "# 5"
   ]
  },
  {
   "cell_type": "code",
   "execution_count": 11,
   "id": "24cebd59",
   "metadata": {},
   "outputs": [
    {
     "name": "stdout",
     "output_type": "stream",
     "text": [
      "5\n",
      "1\n",
      "(5, 1)\n"
     ]
    }
   ],
   "source": [
    "# Encontra e retorna o maior número impar presente na lista \n",
    "teste = [0,1,2,3,4,5]\n",
    "\n",
    "def maior_impar(lista): \n",
    "    maior = min(lista)\n",
    "    for n in lista:\n",
    "        if n % 2 == 1 and n>maior:\n",
    "            maior = n\n",
    "    if maior % 2 == 0:\n",
    "        print(\"não há número ímpar na lista\")\n",
    "    return maior\n",
    "        \n",
    "# Encontra e retorna o menor número impar presente na lista \n",
    "def menor_impar(lista): \n",
    "    menor = max(lista)\n",
    "    for n in lista:\n",
    "        if n % 2 == 1 and n < menor:\n",
    "            menor = n\n",
    "    if menor % 2 == 0:\n",
    "        print(\"não há número ímpar na lista\")\n",
    "    return menor \n",
    "    \n",
    "# Encontra e retorna o maior e o menor número ímpar presentes na lista \n",
    "def ext_impar(lista): \n",
    "    return maior_impar(lista), menor_impar(lista)\n",
    "\n",
    "print(maior_impar(teste))\n",
    "\n",
    "print(menor_impar(teste))\n",
    "\n",
    "print(ext_impar(teste))"
   ]
  },
  {
   "cell_type": "markdown",
   "id": "e168227c",
   "metadata": {},
   "source": [
    "# 6"
   ]
  },
  {
   "cell_type": "code",
   "execution_count": 14,
   "id": "7c6baaac",
   "metadata": {},
   "outputs": [],
   "source": [
    "# relação de dias da semana que cada médico atende \n",
    "cardiologista = {'terca', 'quarta'} \n",
    "ortopedista = {'terca', 'quinta'} \n",
    "dermatologista = {'segunda', 'quarta', 'sexta'} \n",
    "neurologista = {'terca', 'quinta', 'sexta'} \n",
    "psiquiatra = {'segunda', 'quarta', 'sexta'} \n",
    "\n",
    "# Calcula quais os dias possíveis para dois médicos \n",
    "def disp_dois_especialistas(medico01, medico02): \n",
    "    return medico01 & medico02 \n",
    "\n",
    "# Calcula quais os dias possíveis para três médicos \n",
    "def disp_tres_especialistas(medico01, medico02, medico03): \n",
    "    return medico01 & medico02 & medico03"
   ]
  },
  {
   "cell_type": "code",
   "execution_count": 15,
   "id": "aa6ba402",
   "metadata": {},
   "outputs": [
    {
     "name": "stdout",
     "output_type": "stream",
     "text": [
      "{'terca', 'quinta'}\n",
      "{'sexta'}\n"
     ]
    }
   ],
   "source": [
    "# Médicos solicitados: ortopedista e neurologista \n",
    "print(disp_dois_especialistas(ortopedista, neurologista))\n",
    "# RETORNA: terça e quinta \n",
    "\n",
    "# Médicos solicitados: dermatologista, neurologista, psquiatra \n",
    "print(disp_tres_especialistas(dermatologista, neurologista, psiquiatra))\n",
    "# RETORNA: sexta"
   ]
  }
 ],
 "metadata": {
  "kernelspec": {
   "display_name": "Python 3 (ipykernel)",
   "language": "python",
   "name": "python3"
  },
  "language_info": {
   "codemirror_mode": {
    "name": "ipython",
    "version": 3
   },
   "file_extension": ".py",
   "mimetype": "text/x-python",
   "name": "python",
   "nbconvert_exporter": "python",
   "pygments_lexer": "ipython3",
   "version": "3.9.12"
  }
 },
 "nbformat": 4,
 "nbformat_minor": 5
}
