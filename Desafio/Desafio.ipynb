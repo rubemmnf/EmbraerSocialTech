{
 "cells": [
  {
   "cell_type": "markdown",
   "id": "a9328bf7",
   "metadata": {},
   "source": [
    "# 1"
   ]
  },
  {
   "cell_type": "code",
   "execution_count": 32,
   "id": "c9af7c77",
   "metadata": {},
   "outputs": [],
   "source": [
    "# relação dos nomes \n",
    "nomes = ['Maria', 'Julieta', 'Fernando', 'Cristiano', 'Julieta', 'Maria', 'Fernando', 'Cláudio'] \n",
    "\n",
    "# estrutura que irá armazenar o número de letras de cada nome \n",
    "qtd_letras = {} \n",
    "\n",
    "# calcula o tamanho de cada nome (em número de letras) e armazena o valor na estrutura \n",
    "for nome in nomes: \n",
    "    qtd_letras[nome] = len(nome)"
   ]
  },
  {
   "cell_type": "code",
   "execution_count": 33,
   "id": "baf2b94f",
   "metadata": {},
   "outputs": [
    {
     "data": {
      "text/plain": [
       "{'Maria': 5, 'Julieta': 7, 'Fernando': 8, 'Cristiano': 9, 'Cláudio': 7}"
      ]
     },
     "execution_count": 33,
     "metadata": {},
     "output_type": "execute_result"
    }
   ],
   "source": [
    "qtd_letras"
   ]
  },
  {
   "cell_type": "markdown",
   "id": "ac8a1a65",
   "metadata": {},
   "source": [
    "# 2"
   ]
  },
  {
   "cell_type": "code",
   "execution_count": 3,
   "id": "cb8b0ded",
   "metadata": {},
   "outputs": [],
   "source": [
    "qtd_letras_dc = {item: len(item) for item in nomes}"
   ]
  },
  {
   "cell_type": "code",
   "execution_count": 4,
   "id": "5d801397",
   "metadata": {},
   "outputs": [
    {
     "data": {
      "text/plain": [
       "{'Maria': 5, 'Julieta': 7, 'Fernando': 8, 'Cristiano': 9, 'Cláudio': 7}"
      ]
     },
     "execution_count": 4,
     "metadata": {},
     "output_type": "execute_result"
    }
   ],
   "source": [
    "qtd_letras_dc"
   ]
  },
  {
   "cell_type": "markdown",
   "id": "d45e0987",
   "metadata": {},
   "source": [
    "# 3"
   ]
  },
  {
   "cell_type": "code",
   "execution_count": 6,
   "id": "232af62d",
   "metadata": {},
   "outputs": [
    {
     "name": "stdout",
     "output_type": "stream",
     "text": [
      "200.96\n",
      "201.061888\n"
     ]
    }
   ],
   "source": [
    "def area(r, pi = 3.14):\n",
    "    return pi*(r**2)\n",
    "\n",
    "print(area(8))\n",
    "\n",
    "print(area(8,3.141592))"
   ]
  },
  {
   "cell_type": "markdown",
   "id": "8eacb18e",
   "metadata": {},
   "source": [
    "# 4"
   ]
  },
  {
   "cell_type": "code",
   "execution_count": 8,
   "id": "7202b781",
   "metadata": {},
   "outputs": [
    {
     "name": "stdout",
     "output_type": "stream",
     "text": [
      "200.96\n",
      "201.061888\n"
     ]
    }
   ],
   "source": [
    "area_circ = lambda r, pi=3.14: pi*(r**2)\n",
    "\n",
    "print(area(8))\n",
    "\n",
    "print(area(8,3.141592))"
   ]
  },
  {
   "cell_type": "markdown",
   "id": "a7db129d",
   "metadata": {},
   "source": [
    "# 5"
   ]
  },
  {
   "cell_type": "code",
   "execution_count": 11,
   "id": "906c8d2a",
   "metadata": {},
   "outputs": [
    {
     "name": "stdout",
     "output_type": "stream",
     "text": [
      "5\n",
      "1\n",
      "(5, 1)\n"
     ]
    }
   ],
   "source": [
    "# Encontra e retorna o maior número impar presente na lista \n",
    "teste = [0,1,2,3,4,5]\n",
    "\n",
    "def maior_impar(lista): \n",
    "    maior = min(lista)\n",
    "    for n in lista:\n",
    "        if n % 2 == 1 and n>maior:\n",
    "            maior = n\n",
    "    if maior % 2 == 0:\n",
    "        print(\"não há número ímpar na lista\")\n",
    "    return maior\n",
    "        \n",
    "# Encontra e retorna o menor número impar presente na lista \n",
    "def menor_impar(lista): \n",
    "    menor = max(lista)\n",
    "    for n in lista:\n",
    "        if n % 2 == 1 and n < menor:\n",
    "            menor = n\n",
    "    if menor % 2 == 0:\n",
    "        print(\"não há número ímpar na lista\")\n",
    "    return menor \n",
    "    \n",
    "# Encontra e retorna o maior e o menor número ímpar presentes na lista \n",
    "def ext_impar(lista): \n",
    "    return maior_impar(lista), menor_impar(lista)\n",
    "\n",
    "print(maior_impar(teste))\n",
    "\n",
    "print(menor_impar(teste))\n",
    "\n",
    "print(ext_impar(teste))"
   ]
  },
  {
   "cell_type": "markdown",
   "id": "c8aa7ae7",
   "metadata": {},
   "source": [
    "# 6"
   ]
  },
  {
   "cell_type": "code",
   "execution_count": 14,
   "id": "2e641fef",
   "metadata": {},
   "outputs": [],
   "source": [
    "# relação de dias da semana que cada médico atende \n",
    "cardiologista = {'terca', 'quarta'} \n",
    "ortopedista = {'terca', 'quinta'} \n",
    "dermatologista = {'segunda', 'quarta', 'sexta'} \n",
    "neurologista = {'terca', 'quinta', 'sexta'} \n",
    "psiquiatra = {'segunda', 'quarta', 'sexta'} \n",
    "\n",
    "# Calcula quais os dias possíveis para dois médicos \n",
    "def disp_dois_especialistas(medico01, medico02): \n",
    "    return medico01 & medico02 \n",
    "\n",
    "# Calcula quais os dias possíveis para três médicos \n",
    "def disp_tres_especialistas(medico01, medico02, medico03): \n",
    "    return medico01 & medico02 & medico03"
   ]
  },
  {
   "cell_type": "code",
   "execution_count": 15,
   "id": "879092a6",
   "metadata": {},
   "outputs": [
    {
     "name": "stdout",
     "output_type": "stream",
     "text": [
      "{'terca', 'quinta'}\n",
      "{'sexta'}\n"
     ]
    }
   ],
   "source": [
    "# Médicos solicitados: ortopedista e neurologista \n",
    "print(disp_dois_especialistas(ortopedista, neurologista))\n",
    "# RETORNA: terça e quinta \n",
    "\n",
    "# Médicos solicitados: dermatologista, neurologista, psquiatra \n",
    "print(disp_tres_especialistas(dermatologista, neurologista, psiquiatra))\n",
    "# RETORNA: sexta"
   ]
  },
  {
   "cell_type": "markdown",
   "id": "a2ee273a",
   "metadata": {},
   "source": [
    "# Questões"
   ]
  },
  {
   "cell_type": "code",
   "execution_count": 18,
   "id": "0a6a8519",
   "metadata": {},
   "outputs": [
    {
     "name": "stdout",
     "output_type": "stream",
     "text": [
      "<class 'list'> <class 'dict'>\n"
     ]
    }
   ],
   "source": [
    "print(type(nomes),type(qtd_letras))"
   ]
  },
  {
   "cell_type": "code",
   "execution_count": 19,
   "id": "d4af3d5e",
   "metadata": {},
   "outputs": [
    {
     "data": {
      "text/plain": [
       "5"
      ]
     },
     "execution_count": 19,
     "metadata": {},
     "output_type": "execute_result"
    }
   ],
   "source": [
    "len({1, 3, 1, 4, 3, 2, 2, 0, 4})"
   ]
  },
  {
   "cell_type": "code",
   "execution_count": 20,
   "id": "2f5c4538",
   "metadata": {},
   "outputs": [
    {
     "data": {
      "text/plain": [
       "[2.0, 2.5, 3.0, 3.5, 4.0, 4.5]"
      ]
     },
     "execution_count": 20,
     "metadata": {},
     "output_type": "execute_result"
    }
   ],
   "source": [
    "[n/2 for n in range(0, 10) if n > 3]"
   ]
  },
  {
   "cell_type": "code",
   "execution_count": 21,
   "id": "85d39d30",
   "metadata": {},
   "outputs": [
    {
     "ename": "IndexError",
     "evalue": "string index out of range",
     "output_type": "error",
     "traceback": [
      "\u001b[1;31m---------------------------------------------------------------------------\u001b[0m",
      "\u001b[1;31mIndexError\u001b[0m                                Traceback (most recent call last)",
      "Input \u001b[1;32mIn [21]\u001b[0m, in \u001b[0;36m<cell line: 1>\u001b[1;34m()\u001b[0m\n\u001b[1;32m----> 1\u001b[0m [nome[\u001b[38;5;28mlen\u001b[39m(nome)] \u001b[38;5;28;01mfor\u001b[39;00m nome \u001b[38;5;129;01min\u001b[39;00m nomes]\n",
      "Input \u001b[1;32mIn [21]\u001b[0m, in \u001b[0;36m<listcomp>\u001b[1;34m(.0)\u001b[0m\n\u001b[1;32m----> 1\u001b[0m [\u001b[43mnome\u001b[49m\u001b[43m[\u001b[49m\u001b[38;5;28;43mlen\u001b[39;49m\u001b[43m(\u001b[49m\u001b[43mnome\u001b[49m\u001b[43m)\u001b[49m\u001b[43m]\u001b[49m \u001b[38;5;28;01mfor\u001b[39;00m nome \u001b[38;5;129;01min\u001b[39;00m nomes]\n",
      "\u001b[1;31mIndexError\u001b[0m: string index out of range"
     ]
    }
   ],
   "source": [
    "[nome[len(nome)] for nome in nomes]"
   ]
  },
  {
   "cell_type": "code",
   "execution_count": 22,
   "id": "400657c8",
   "metadata": {},
   "outputs": [
    {
     "ename": "SyntaxError",
     "evalue": "invalid syntax (2725506353.py, line 1)",
     "output_type": "error",
     "traceback": [
      "\u001b[1;36m  Input \u001b[1;32mIn [22]\u001b[1;36m\u001b[0m\n\u001b[1;33m    {nome: len(nome)} for nome in nomes if nome == len(nome)\u001b[0m\n\u001b[1;37m                      ^\u001b[0m\n\u001b[1;31mSyntaxError\u001b[0m\u001b[1;31m:\u001b[0m invalid syntax\n"
     ]
    }
   ],
   "source": [
    "{nome: len(nome)} for nome in nomes if nome == len(nome)"
   ]
  },
  {
   "cell_type": "code",
   "execution_count": 23,
   "id": "142ab771",
   "metadata": {},
   "outputs": [
    {
     "data": {
      "text/plain": [
       "{}"
      ]
     },
     "execution_count": 23,
     "metadata": {},
     "output_type": "execute_result"
    }
   ],
   "source": [
    "{nome: len(nome) for nome in nomes if nome == len(nome)}"
   ]
  },
  {
   "cell_type": "code",
   "execution_count": 28,
   "id": "89da3fdd",
   "metadata": {},
   "outputs": [
    {
     "data": {
      "text/plain": [
       "{'Maria': 5, 'Julieta': 7, 'Fernando': 8, 'Cristiano': 9, 'Cláudio': 7}"
      ]
     },
     "execution_count": 28,
     "metadata": {},
     "output_type": "execute_result"
    }
   ],
   "source": [
    "{nome: len(nome) for nome in nomes}"
   ]
  },
  {
   "cell_type": "code",
   "execution_count": 29,
   "id": "1426a1c5",
   "metadata": {},
   "outputs": [],
   "source": [
    "tupla = (1,2, 4,3)"
   ]
  },
  {
   "cell_type": "code",
   "execution_count": 30,
   "id": "5f81bd2f",
   "metadata": {},
   "outputs": [
    {
     "data": {
      "text/plain": [
       "(1, 2, 4, 3)"
      ]
     },
     "execution_count": 30,
     "metadata": {},
     "output_type": "execute_result"
    }
   ],
   "source": [
    "tupla"
   ]
  },
  {
   "cell_type": "code",
   "execution_count": 31,
   "id": "d94be957",
   "metadata": {},
   "outputs": [
    {
     "data": {
      "text/plain": [
       "4"
      ]
     },
     "execution_count": 31,
     "metadata": {},
     "output_type": "execute_result"
    }
   ],
   "source": [
    "tupla[2]"
   ]
  },
  {
   "cell_type": "code",
   "execution_count": 34,
   "id": "5ede01bc",
   "metadata": {},
   "outputs": [
    {
     "data": {
      "text/plain": [
       "8"
      ]
     },
     "execution_count": 34,
     "metadata": {},
     "output_type": "execute_result"
    }
   ],
   "source": [
    "len(nomes)"
   ]
  },
  {
   "cell_type": "code",
   "execution_count": 35,
   "id": "bd485226",
   "metadata": {},
   "outputs": [
    {
     "data": {
      "text/plain": [
       "5"
      ]
     },
     "execution_count": 35,
     "metadata": {},
     "output_type": "execute_result"
    }
   ],
   "source": [
    "len(qtd_letras)"
   ]
  },
  {
   "cell_type": "code",
   "execution_count": null,
   "id": "26bdd158",
   "metadata": {},
   "outputs": [],
   "source": []
  }
 ],
 "metadata": {
  "kernelspec": {
   "display_name": "Python 3 (ipykernel)",
   "language": "python",
   "name": "python3"
  },
  "language_info": {
   "codemirror_mode": {
    "name": "ipython",
    "version": 3
   },
   "file_extension": ".py",
   "mimetype": "text/x-python",
   "name": "python",
   "nbconvert_exporter": "python",
   "pygments_lexer": "ipython3",
   "version": "3.9.12"
  }
 },
 "nbformat": 4,
 "nbformat_minor": 5
}
